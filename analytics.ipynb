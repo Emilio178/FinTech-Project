{
 "cells": [
  {
   "cell_type": "markdown",
   "id": "45d031af",
   "metadata": {},
   "source": [
    "# Overhead setting"
   ]
  },
  {
   "cell_type": "code",
   "execution_count": null,
   "id": "b2840e6e",
   "metadata": {},
   "outputs": [],
   "source": [
    "#pip install pandas-datareader"
   ]
  },
  {
   "cell_type": "code",
   "execution_count": 2,
   "id": "e645021f",
   "metadata": {},
   "outputs": [],
   "source": [
    "# Initial imports\n",
    "import os\n",
    "import pandas as pd\n",
    "from dotenv import load_dotenv\n",
    "import alpaca_trade_api as tradeapi\n",
    "import datetime\n",
    "import matplotlib.pyplot as plt\n",
    "from pandas.plotting import scatter_matrix\n",
    "import numpy as np\n",
    "import pandas_datareader.data as web"
   ]
  },
  {
   "cell_type": "code",
   "execution_count": null,
   "id": "42d937bd",
   "metadata": {},
   "outputs": [],
   "source": [
    "# Load .env enviroment variables\n",
    "#load_dotenv()"
   ]
  },
  {
   "cell_type": "code",
   "execution_count": null,
   "id": "a8c476ed",
   "metadata": {},
   "outputs": [],
   "source": [
    "# Set Alpaca API key and secret key\n",
    "# alpaca_api_key = os.getenv(\"ALPACA_API_KEY\")\n",
    "# alpaca_secret_key = os.getenv(\"ALPACA_SECRET_KEY\")\n",
    "\n",
    "# Create the Alpaca API object\n",
    "# api = tradeapi.REST(\n",
    "#     alpaca_api_key,\n",
    "#     alpaca_secret_key,\n",
    "#     api_version=\"v2\"\n",
    "# )"
   ]
  },
  {
   "cell_type": "code",
   "execution_count": 19,
   "id": "4d7e9676",
   "metadata": {},
   "outputs": [],
   "source": [
    "# Universal variables:\n",
    "T=10\n",
    "stock=\"AMZN\"\n",
    "benchmark=\"SPY\"\n",
    "yield10y=\"^TNX\"\n",
    "crypto=\"BTC-USD\"\n",
    "\n",
    "\n",
    "end = datetime.date.today()\n",
    "begin=end-pd.DateOffset(365*T)\n",
    "st=begin.strftime('%Y-%m-%d')\n",
    "ed=end.strftime('%Y-%m-%d')\n",
    "start_date = pd.Timestamp(st, tz=\"America/New_York\").isoformat()\n",
    "end_date = pd.Timestamp(ed, tz=\"America/New_York\").isoformat()\n"
   ]
  },
  {
   "cell_type": "code",
   "execution_count": 7,
   "id": "0ebc8e32",
   "metadata": {},
   "outputs": [],
   "source": [
    "# Universal Functions\n",
    "\n",
    "def n_year_ago(n):\n",
    "    # to get the date of \"n years ago from today\"\n",
    "    n_years_ago=(end-pd.DateOffset(365*n)).strftime('%Y-%m-%d')\n",
    "    return n_years_ago\n"
   ]
  },
  {
   "cell_type": "markdown",
   "id": "47cb6ef5",
   "metadata": {},
   "source": [
    "# Grab data from Yahoo Finance"
   ]
  },
  {
   "cell_type": "code",
   "execution_count": 20,
   "id": "60859b22",
   "metadata": {},
   "outputs": [],
   "source": [
    "ticker_df = web.DataReader(stock, 'yahoo', start_date, end_date)\n",
    "ticker_close=round(ticker_df[['Close']],2)"
   ]
  },
  {
   "cell_type": "code",
   "execution_count": 18,
   "id": "e493a55c",
   "metadata": {},
   "outputs": [
    {
     "data": {
      "text/html": [
       "<div>\n",
       "<style scoped>\n",
       "    .dataframe tbody tr th:only-of-type {\n",
       "        vertical-align: middle;\n",
       "    }\n",
       "\n",
       "    .dataframe tbody tr th {\n",
       "        vertical-align: top;\n",
       "    }\n",
       "\n",
       "    .dataframe thead th {\n",
       "        text-align: right;\n",
       "    }\n",
       "</style>\n",
       "<table border=\"1\" class=\"dataframe\">\n",
       "  <thead>\n",
       "    <tr style=\"text-align: right;\">\n",
       "      <th></th>\n",
       "      <th>Close</th>\n",
       "    </tr>\n",
       "    <tr>\n",
       "      <th>Date</th>\n",
       "      <th></th>\n",
       "    </tr>\n",
       "  </thead>\n",
       "  <tbody>\n",
       "    <tr>\n",
       "      <th>2016-04-18</th>\n",
       "      <td>635.35</td>\n",
       "    </tr>\n",
       "    <tr>\n",
       "      <th>2016-04-19</th>\n",
       "      <td>627.90</td>\n",
       "    </tr>\n",
       "    <tr>\n",
       "      <th>2016-04-20</th>\n",
       "      <td>632.99</td>\n",
       "    </tr>\n",
       "    <tr>\n",
       "      <th>2016-04-21</th>\n",
       "      <td>631.00</td>\n",
       "    </tr>\n",
       "    <tr>\n",
       "      <th>2016-04-22</th>\n",
       "      <td>620.50</td>\n",
       "    </tr>\n",
       "    <tr>\n",
       "      <th>...</th>\n",
       "      <td>...</td>\n",
       "    </tr>\n",
       "    <tr>\n",
       "      <th>2022-04-08</th>\n",
       "      <td>3089.21</td>\n",
       "    </tr>\n",
       "    <tr>\n",
       "      <th>2022-04-11</th>\n",
       "      <td>3022.44</td>\n",
       "    </tr>\n",
       "    <tr>\n",
       "      <th>2022-04-12</th>\n",
       "      <td>3015.75</td>\n",
       "    </tr>\n",
       "    <tr>\n",
       "      <th>2022-04-13</th>\n",
       "      <td>3110.82</td>\n",
       "    </tr>\n",
       "    <tr>\n",
       "      <th>2022-04-14</th>\n",
       "      <td>3034.13</td>\n",
       "    </tr>\n",
       "  </tbody>\n",
       "</table>\n",
       "<p>1511 rows × 1 columns</p>\n",
       "</div>"
      ],
      "text/plain": [
       "              Close\n",
       "Date               \n",
       "2016-04-18   635.35\n",
       "2016-04-19   627.90\n",
       "2016-04-20   632.99\n",
       "2016-04-21   631.00\n",
       "2016-04-22   620.50\n",
       "...             ...\n",
       "2022-04-08  3089.21\n",
       "2022-04-11  3022.44\n",
       "2022-04-12  3015.75\n",
       "2022-04-13  3110.82\n",
       "2022-04-14  3034.13\n",
       "\n",
       "[1511 rows x 1 columns]"
      ]
     },
     "execution_count": 18,
     "metadata": {},
     "output_type": "execute_result"
    }
   ],
   "source": [
    "ticker_close"
   ]
  },
  {
   "cell_type": "code",
   "execution_count": null,
   "id": "9e412a78",
   "metadata": {},
   "outputs": [],
   "source": [
    "SPY = df_raw[df_raw['symbol']=='SPY'].drop('symbol', axis=1)\n",
    "AMZN = df_raw[df_raw['symbol']=='AMZN'].drop('symbol', axis=1)"
   ]
  },
  {
   "cell_type": "code",
   "execution_count": null,
   "id": "050b2aa6",
   "metadata": {},
   "outputs": [],
   "source": [
    "AMZN.tail()"
   ]
  },
  {
   "cell_type": "code",
   "execution_count": null,
   "id": "d5f7f420",
   "metadata": {},
   "outputs": [],
   "source": [
    "AMZN['open'].plot(label= 'AMZN Open price', figsize=(15,7))\n",
    "AMZN['close'].plot(label= 'AMZN Close price')\n",
    "AMZN['high'].plot(label= 'AMZN High price')\n",
    "AMZN['low'].plot(label= 'AMZN Low price')\n",
    "plt.ylabel('Price')\n",
    "plt.xlabel('Date')\n",
    "plt.legend()\n",
    "plt.show()"
   ]
  },
  {
   "cell_type": "code",
   "execution_count": null,
   "id": "3dcd81df",
   "metadata": {},
   "outputs": [],
   "source": [
    "SPY['open'].plot(label= 'SPY Open price', figsize=(15,7))\n",
    "SPY['close'].plot(label= 'SPY Close price')\n",
    "# SPY['high'].plot(label= 'SPY High price')\n",
    "# SPY['low'].plot(label= 'SPY Low price')\n",
    "plt.ylabel('Price')\n",
    "plt.xlabel('Date')\n",
    "plt.legend()\n",
    "plt.show()"
   ]
  },
  {
   "cell_type": "code",
   "execution_count": null,
   "id": "afe4842f-602f-4a37-b943-9d3d0faf4c3d",
   "metadata": {},
   "outputs": [],
   "source": [
    "AMZN['close'].plot(label= 'AMZN Close price', figsize=(15,7))\n",
    "SPY['close'].plot(label= 'SPY Close price')\n",
    "plt.ylabel('Price')\n",
    "plt.xlabel('Date')\n",
    "plt.legend()\n",
    "plt.show()"
   ]
  },
  {
   "cell_type": "code",
   "execution_count": null,
   "id": "f551b7dd",
   "metadata": {},
   "outputs": [],
   "source": [
    "AMZN['volume'].plot(label='AMZN', figsize=(15,7))\n",
    "plt.ylabel('Volume Traded')\n",
    "plt.xlabel('Date')\n",
    "plt.title('AMZN Volume Traded for the past 6 years')"
   ]
  },
  {
   "cell_type": "code",
   "execution_count": null,
   "id": "cb8c1b3c",
   "metadata": {},
   "outputs": [],
   "source": [
    "SPY['volume'].plot(label='SPY', figsize=(15,7))\n",
    "AMZN['volume'].plot(label='AMZN')\n",
    "plt.legend()\n",
    "plt.ylabel('Volume Traded')\n",
    "plt.xlabel('Date')\n",
    "plt.title('Volume Traded for the past 6 years')"
   ]
  },
  {
   "cell_type": "code",
   "execution_count": null,
   "id": "0b965d7c-5e9b-41b3-ba01-47645f673b1f",
   "metadata": {},
   "outputs": [],
   "source": [
    "AMZN['total_traded'] = AMZN['open']*AMZN['volume']\n",
    "SPY['total_traded'] = SPY['open']*SPY['volume']"
   ]
  },
  {
   "cell_type": "code",
   "execution_count": null,
   "id": "225864e6-d86e-4f1d-b057-0ffd773d4ff7",
   "metadata": {},
   "outputs": [],
   "source": [
    "AMZN['total_traded'].plot(label='AMZN', figsize=(15,7))\n",
    "SPY['total_traded'].plot(label='SPY')\n",
    "plt.xlabel('Date')\n",
    "plt.ylabel('Total Traded')\n",
    "plt.legend()"
   ]
  },
  {
   "cell_type": "code",
   "execution_count": null,
   "id": "0fd2d557-2cd7-40c7-96a1-535add7a68ff",
   "metadata": {},
   "outputs": [],
   "source": [
    "AMZN.iloc[[AMZN.total_traded.argmax()]]"
   ]
  },
  {
   "cell_type": "code",
   "execution_count": null,
   "id": "191d09fb-b11a-4a96-8593-30c7fddbb206",
   "metadata": {},
   "outputs": [],
   "source": [
    "AMZN.iloc[[AMZN.total_traded.argmin()]]"
   ]
  },
  {
   "cell_type": "code",
   "execution_count": null,
   "id": "3e181cb5-fbe8-457c-bc70-0928040c34ef",
   "metadata": {},
   "outputs": [],
   "source": [
    "SPY.iloc[[SPY.total_traded.argmax()]]"
   ]
  },
  {
   "cell_type": "code",
   "execution_count": null,
   "id": "f0b298a7-ca94-4481-b383-5767e248c546",
   "metadata": {},
   "outputs": [],
   "source": [
    "SPY.iloc[[SPY.total_traded.argmin()]]"
   ]
  },
  {
   "cell_type": "markdown",
   "id": "37343aa6",
   "metadata": {},
   "source": [
    "# Create function to generate metrics\n",
    "\n",
    "* 1-year/5-year rolling return \n",
    "* annualized rolling volatility \n",
    "* annualized rolling sharpe ratio \n",
    "* 1-year/5-year cumulative return \n"
   ]
  },
  {
   "cell_type": "code",
   "execution_count": null,
   "id": "684bb67b",
   "metadata": {},
   "outputs": [],
   "source": [
    "def risk_return_metrics(df,ticker,years_list):\n",
    "\n",
    "    \n",
    "    ticker_close['daily_return']=ticker_close['close'].pct_change()\n",
    "    \n",
    "    \n",
    "    # calculate n-year rolling return and cum return\n",
    "    for years in years_list:\n",
    "        \n",
    "        # calculate n-year rolling total return\n",
    "        ticker_close[f'{years}yr_return']=ticker_close['close'].pct_change(periods=252*years)\n",
    "        # calculate n-year rolling annualized return if n>1\n",
    "        if years>1:\n",
    "            ticker_close[f'{years}yr_return_annualzd']=(1+ticker_close[f'{years}yr_return'])**(1/years)-1\n",
    "        # calculate n-year cum return\n",
    "        ticker_close[f'{years}yr_cum_return'] = (1 + ticker_close['daily_return'])[n_year_ago(years):].cumprod() - 1  \n",
    "    \n",
    "    \n",
    "    # calculate annualized rolling standard deviation:\n",
    "    ticker_close['annualizd_volatility']=ticker_close['daily_return'].rolling(252).std()*(252**0.5)\n",
    "    # calculate annualized rolling sharpe ratio:\n",
    "    ticker_close['annualizd_sharpe']=(252**0.5)*(ticker_close['daily_return'].rolling(252).mean()/ticker_close['annualizd_volatility'])\n",
    "    \n",
    "    return ticker_close\n",
    "    \n"
   ]
  },
  {
   "cell_type": "markdown",
   "id": "e5faf20f",
   "metadata": {},
   "source": [
    "# Output final datasets"
   ]
  },
  {
   "cell_type": "code",
   "execution_count": null,
   "id": "3a5c78b0",
   "metadata": {},
   "outputs": [],
   "source": [
    "years_list=[1,5]\n",
    "s_df=risk_return_metrics(df_raw,selected_stock,years_list)\n",
    "b_df=risk_return_metrics(df_raw,benchmark,years_list)\n",
    "s_df.to_csv(\"Data/selected_stock.csv\")\n",
    "b_df.to_csv(\"Data/benchmark.csv\")"
   ]
  },
  {
   "cell_type": "code",
   "execution_count": null,
   "id": "aa854bb7-93d8-4ead-bf9f-339ca866d2ed",
   "metadata": {},
   "outputs": [],
   "source": [
    "s_df.describe()"
   ]
  },
  {
   "cell_type": "code",
   "execution_count": null,
   "id": "067efa8d",
   "metadata": {},
   "outputs": [],
   "source": [
    "# Moving Average Plots\n",
    "s_df.close.plot(label='AMZN Close',figsize=(15,7))\n",
    "s_df.close.rolling(50).mean().plot(label='AMZN MA50')\n",
    "s_df.close.rolling(200).mean().plot(label='AMZN MA200')\n",
    "plt.legend()"
   ]
  },
  {
   "cell_type": "code",
   "execution_count": null,
   "id": "5de88a45",
   "metadata": {},
   "outputs": [],
   "source": [
    "# Moving Average Plots\n",
    "b_df.close.plot(label='SPY Close',figsize=(15,7))\n",
    "b_df.close.rolling(50).mean().plot(label='SPY MA50')\n",
    "b_df.close.rolling(200).mean().plot(label='SPY MA200')\n",
    "plt.legend()"
   ]
  },
  {
   "cell_type": "markdown",
   "id": "f7632577-8262-4b4f-b497-c212b9706c0c",
   "metadata": {},
   "source": [
    "# Correlation\n",
    "\n",
    "Correlation is a statistic that measures the degree to which two variables move in relation to each other. Correlation measures association, but doesn’t show if x causes y or vice versa.\n",
    "\n",
    "The correlation between two stocks is a number form -1 to 1 (both inclusive).\n",
    "\n",
    " - A positive correlation means, when stock x goes up, we expect stock y to go up, and opposite.\n",
    " - A negative correlation means, when stock x goes up, we expect stock y to go down, and opposite.\n",
    " - A zero correlation, we cannot say anything in relation to each other.\n",
    " \n",
    "The formula for calculating the correlation is quite a mouthful."
   ]
  },
  {
   "attachments": {
    "d1254247-2f3a-4af8-946a-0111faef3ccf.png": {
     "image/png": "[encoded data removed]"
    }
   },
   "cell_type": "markdown",
   "id": "da69d8a9-3a75-4eea-acc5-8ddf2f06247d",
   "metadata": {},
   "source": [
    "![image.png](attachment:d1254247-2f3a-4af8-946a-0111faef3ccf.png)"
   ]
  },
  {
   "cell_type": "code",
   "execution_count": null,
   "id": "0cb141bf",
   "metadata": {},
   "outputs": [],
   "source": [
    "corr_s_with_b = pd.concat([s_df.close, s_df['5yr_return_annualzd']\t, b_df.close, b_df['5yr_return_annualzd']], axis=1)\n",
    "corr_s_with_b.columns = ['AMZN_close', 'AMZN_returns', 'SPY_close', 'SPY_returns']"
   ]
  },
  {
   "cell_type": "code",
   "execution_count": null,
   "id": "4cf9b2f4-c3ef-4557-9a98-5522d3dfb974",
   "metadata": {},
   "outputs": [],
   "source": [
    "scatter_matrix(corr_s_with_b[['AMZN_close', 'SPY_close']], figsize=(8,8))"
   ]
  },
  {
   "cell_type": "code",
   "execution_count": null,
   "id": "2b37795a-8bf4-4b55-ba63-8b88d731fa0c",
   "metadata": {},
   "outputs": [],
   "source": [
    "b_df['5yr_return_annualzd'].hist(bins=100, label='SPY', alpha=0.5, figsize=(15,7))\n",
    "s_df['5yr_return_annualzd'].hist(bins=100, label='AMZN', alpha=0.5)\n",
    "plt.legend()"
   ]
  },
  {
   "cell_type": "code",
   "execution_count": null,
   "id": "be217cac-3d8d-4679-b2b9-e2aa35d0e6bb",
   "metadata": {},
   "outputs": [],
   "source": [
    "b_df['5yr_return_annualzd'].plot(kind='kde', label='SPY', figsize=(15,7))\n",
    "s_df['5yr_return_annualzd'].plot(kind='kde', label='AMZN')\n",
    "plt.legend()\n",
    "plt.show()"
   ]
  },
  {
   "cell_type": "code",
   "execution_count": null,
   "id": "d66f438a-ce2b-4d70-bcc4-f7e7dd43f4fc",
   "metadata": {},
   "outputs": [],
   "source": [
    "corr_s_with_b[['AMZN_returns', 'SPY_returns']].plot(kind='box', figsize=(15,7))"
   ]
  },
  {
   "cell_type": "code",
   "execution_count": null,
   "id": "111f1d47-4a49-4ef4-addf-22b4b7cfe610",
   "metadata": {},
   "outputs": [],
   "source": [
    "scatter_matrix(corr_s_with_b[['AMZN_returns', 'SPY_returns']], figsize=(15,7), hist_kwds={'bins':100})"
   ]
  },
  {
   "cell_type": "code",
   "execution_count": null,
   "id": "5a9e8679-bf93-405f-8970-309ff6dfabad",
   "metadata": {},
   "outputs": [],
   "source": [
    "corr_close_data = corr_s_with_b[['AMZN_close', 'SPY_close']]"
   ]
  },
  {
   "cell_type": "code",
   "execution_count": null,
   "id": "c9cf6159-50cb-4720-9c1b-d1c1cfd1c10f",
   "metadata": {},
   "outputs": [],
   "source": [
    "log_returns = np.log(corr_close_data/corr_close_data.shift())\n",
    "log_returns.corr()"
   ]
  },
  {
   "cell_type": "code",
   "execution_count": null,
   "id": "28368b29-d096-4c5d-98bb-81e91db06fae",
   "metadata": {},
   "outputs": [],
   "source": []
  }
 ],
 "metadata": {
  "interpreter": {
   "hash": "7cf7199636acaa51741345da7b9a2c6dfea73e165fa17a55e1b03ec3c3f87d76"
  },
  "kernelspec": {
   "display_name": "Python 3",
   "language": "python",
   "name": "python3"
  },
  "language_info": {
   "codemirror_mode": {
    "name": "ipython",
    "version": 3
   },
   "file_extension": ".py",
   "mimetype": "text/x-python",
   "name": "python",
   "nbconvert_exporter": "python",
   "pygments_lexer": "ipython3",
   "version": "3.8.8"
  }
 },
 "nbformat": 4,
 "nbformat_minor": 5
}
