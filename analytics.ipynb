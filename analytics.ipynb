{
 "cells": [
  {
   "cell_type": "code",
   "execution_count": 15,
   "id": "b2840e6e",
   "metadata": {},
   "outputs": [],
   "source": [
    "# Initial imports\n",
    "import os\n",
    "import json\n",
    "import requests\n",
    "import pandas as pd\n",
    "from dotenv import load_dotenv\n",
    "import alpaca_trade_api as tradeapi\n",
    "from datetime import date\n",
    "from dateutil.relativedelta import relativedelta\n"
   ]
  },
  {
   "cell_type": "code",
   "execution_count": 4,
   "id": "42d937bd",
   "metadata": {},
   "outputs": [
    {
     "data": {
      "text/plain": [
       "True"
      ]
     },
     "execution_count": 4,
     "metadata": {},
     "output_type": "execute_result"
    }
   ],
   "source": [
    "# Load .env enviroment variables\n",
    "load_dotenv()"
   ]
  },
  {
   "cell_type": "code",
   "execution_count": 93,
   "id": "4d7e9676",
   "metadata": {},
   "outputs": [
    {
     "data": {
      "text/plain": [
       "'2017-04-13'"
      ]
     },
     "execution_count": 93,
     "metadata": {},
     "output_type": "execute_result"
    }
   ],
   "source": [
    "# Set Universal variables:\n",
    "selected_company=\"TSLA\"\n",
    "bench_mark=\"SPY\"\n",
    "\n",
    "today=date.today().strftime('%Y-%m-%d')\n"
   ]
  },
  {
   "cell_type": "code",
   "execution_count": null,
   "id": "0ebc8e32",
   "metadata": {},
   "outputs": [],
   "source": [
    "# function to get the date of \"n years ago from today\"\n",
    "def n_year_ago(n):\n",
    "    \n",
    "    n_years_ago=(date.today() - relativedelta(years=n)).strftime('%Y-%m-%d')\n",
    "    return n_years_ago\n"
   ]
  },
  {
   "cell_type": "code",
   "execution_count": 46,
   "id": "632d11c9",
   "metadata": {},
   "outputs": [],
   "source": [
    "# Set Alpaca API key and secret\n",
    "alpaca_api_key = os.getenv(\"ALPACA_API_KEY\")\n",
    "alpaca_secret_key = os.getenv(\"ALPACA_SECRET_KEY\")\n",
    "\n",
    "# Create the Alpaca API object\n",
    "api = tradeapi.REST(\n",
    "    alpaca_api_key,\n",
    "    alpaca_secret_key,\n",
    "    api_version=\"v2\"\n",
    ")"
   ]
  },
  {
   "cell_type": "code",
   "execution_count": 114,
   "id": "60859b22",
   "metadata": {},
   "outputs": [],
   "source": [
    "# Format current date as ISO format\n",
    "start_date = pd.Timestamp(n_year_ago(6), tz=\"America/New_York\").isoformat()\n",
    "end_date = pd.Timestamp(today, tz=\"America/New_York\").isoformat()\n",
    "\n",
    "# Set the tickers list to fetch info from Alpaca API\n",
    "\n",
    "tickers = [selected_company, bench_mark]\n",
    "\n",
    "\n",
    "# Set timeframe to \"1Day\" for Alpaca API\n",
    "timeframe = \"1Day\"\n",
    "\n",
    "# Get current closing prices in tickers list\n",
    "df_ticker = api.get_bars(\n",
    "    tickers,\n",
    "    timeframe,\n",
    "    start=start_date,\n",
    "    end=end_date\n",
    ").df\n"
   ]
  },
  {
   "cell_type": "markdown",
   "id": "37343aa6",
   "metadata": {},
   "source": [
    "# Create a function to calculate returns\n",
    "* daily return\n",
    "* 1-year return \n",
    "* 5-year return \n",
    "* accumulative return from 1 year prior\n",
    "* accumulative return from 5 year prior"
   ]
  },
  {
   "cell_type": "code",
   "execution_count": 115,
   "id": "684bb67b",
   "metadata": {},
   "outputs": [],
   "source": [
    "\n",
    "\n",
    "ticker='TSLA'\n",
    "df_ticker=df_ticker[['close','symbol']].loc[df_ticker['symbol']==ticker].drop(columns='symbol')\n",
    "\n",
    "# create daily return \n",
    "df_ticker['daily_return']=df_ticker['close'].pct_change()\n",
    "\n",
    "# create 1-year return \n",
    "df_ticker['1year_return']=df_ticker['close'].pct_change(periods=252*1)\n",
    "\n",
    "# create 5-year return \n",
    "df_ticker['5year_return']=df_ticker['close'].pct_change(periods=252*5)\n",
    "df_ticker['5year_return_annualzd']=(1+df_ticker[['5year_return']])**(1/5)-1"
   ]
  },
  {
   "cell_type": "code",
   "execution_count": 116,
   "id": "b8d9f6b5",
   "metadata": {},
   "outputs": [
    {
     "name": "stderr",
     "output_type": "stream",
     "text": [
      "/Users/feiyiyang/opt/anaconda3/envs/alpacaenv/lib/python3.7/site-packages/ipykernel_launcher.py:3: SettingWithCopyWarning: \n",
      "A value is trying to be set on a copy of a slice from a DataFrame.\n",
      "Try using .loc[row_indexer,col_indexer] = value instead\n",
      "\n",
      "See the caveats in the documentation: https://pandas.pydata.org/pandas-docs/stable/user_guide/indexing.html#returning-a-view-versus-a-copy\n",
      "  This is separate from the ipykernel package so we can avoid doing imports until\n"
     ]
    },
    {
     "data": {
      "text/html": [
       "<div>\n",
       "<style scoped>\n",
       "    .dataframe tbody tr th:only-of-type {\n",
       "        vertical-align: middle;\n",
       "    }\n",
       "\n",
       "    .dataframe tbody tr th {\n",
       "        vertical-align: top;\n",
       "    }\n",
       "\n",
       "    .dataframe thead th {\n",
       "        text-align: right;\n",
       "    }\n",
       "</style>\n",
       "<table border=\"1\" class=\"dataframe\">\n",
       "  <thead>\n",
       "    <tr style=\"text-align: right;\">\n",
       "      <th></th>\n",
       "      <th>close</th>\n",
       "      <th>daily_return</th>\n",
       "      <th>1year_return</th>\n",
       "      <th>5year_return</th>\n",
       "      <th>5year_return_annualzd</th>\n",
       "      <th>1yr cumulative return</th>\n",
       "    </tr>\n",
       "    <tr>\n",
       "      <th>timestamp</th>\n",
       "      <th></th>\n",
       "      <th></th>\n",
       "      <th></th>\n",
       "      <th></th>\n",
       "      <th></th>\n",
       "      <th></th>\n",
       "    </tr>\n",
       "  </thead>\n",
       "  <tbody>\n",
       "    <tr>\n",
       "      <th>2021-04-14 04:00:00+00:00</th>\n",
       "      <td>732.730</td>\n",
       "      <td>-0.038854</td>\n",
       "      <td>0.032174</td>\n",
       "      <td>NaN</td>\n",
       "      <td>NaN</td>\n",
       "      <td>-0.038854</td>\n",
       "    </tr>\n",
       "    <tr>\n",
       "      <th>2021-04-15 04:00:00+00:00</th>\n",
       "      <td>738.700</td>\n",
       "      <td>0.008148</td>\n",
       "      <td>0.012154</td>\n",
       "      <td>NaN</td>\n",
       "      <td>NaN</td>\n",
       "      <td>-0.031022</td>\n",
       "    </tr>\n",
       "    <tr>\n",
       "      <th>2021-04-16 04:00:00+00:00</th>\n",
       "      <td>739.395</td>\n",
       "      <td>0.000941</td>\n",
       "      <td>-0.007803</td>\n",
       "      <td>1.935738</td>\n",
       "      <td>0.240348</td>\n",
       "      <td>-0.030111</td>\n",
       "    </tr>\n",
       "    <tr>\n",
       "      <th>2021-04-19 04:00:00+00:00</th>\n",
       "      <td>714.980</td>\n",
       "      <td>-0.033020</td>\n",
       "      <td>-0.051612</td>\n",
       "      <td>1.809241</td>\n",
       "      <td>0.229470</td>\n",
       "      <td>-0.062137</td>\n",
       "    </tr>\n",
       "    <tr>\n",
       "      <th>2021-04-20 04:00:00+00:00</th>\n",
       "      <td>718.790</td>\n",
       "      <td>0.005329</td>\n",
       "      <td>-0.036939</td>\n",
       "      <td>1.831219</td>\n",
       "      <td>0.231387</td>\n",
       "      <td>-0.057139</td>\n",
       "    </tr>\n",
       "    <tr>\n",
       "      <th>...</th>\n",
       "      <td>...</td>\n",
       "      <td>...</td>\n",
       "      <td>...</td>\n",
       "      <td>...</td>\n",
       "      <td>...</td>\n",
       "      <td>...</td>\n",
       "    </tr>\n",
       "    <tr>\n",
       "      <th>2022-04-07 04:00:00+00:00</th>\n",
       "      <td>1057.260</td>\n",
       "      <td>0.010997</td>\n",
       "      <td>0.561638</td>\n",
       "      <td>2.539538</td>\n",
       "      <td>0.287625</td>\n",
       "      <td>0.386843</td>\n",
       "    </tr>\n",
       "    <tr>\n",
       "      <th>2022-04-08 04:00:00+00:00</th>\n",
       "      <td>1025.490</td>\n",
       "      <td>-0.030049</td>\n",
       "      <td>0.462687</td>\n",
       "      <td>2.389601</td>\n",
       "      <td>0.276526</td>\n",
       "      <td>0.345170</td>\n",
       "    </tr>\n",
       "    <tr>\n",
       "      <th>2022-04-11 04:00:00+00:00</th>\n",
       "      <td>975.930</td>\n",
       "      <td>-0.048328</td>\n",
       "      <td>0.280160</td>\n",
       "      <td>2.124076</td>\n",
       "      <td>0.255869</td>\n",
       "      <td>0.280160</td>\n",
       "    </tr>\n",
       "    <tr>\n",
       "      <th>2022-04-12 04:00:00+00:00</th>\n",
       "      <td>986.950</td>\n",
       "      <td>0.011292</td>\n",
       "      <td>0.346949</td>\n",
       "      <td>2.197013</td>\n",
       "      <td>0.261679</td>\n",
       "      <td>0.294615</td>\n",
       "    </tr>\n",
       "    <tr>\n",
       "      <th>2022-04-13 04:00:00+00:00</th>\n",
       "      <td>1022.370</td>\n",
       "      <td>0.035888</td>\n",
       "      <td>0.384012</td>\n",
       "      <td>2.444179</td>\n",
       "      <td>0.280611</td>\n",
       "      <td>0.341077</td>\n",
       "    </tr>\n",
       "  </tbody>\n",
       "</table>\n",
       "<p>254 rows × 6 columns</p>\n",
       "</div>"
      ],
      "text/plain": [
       "                              close  daily_return  1year_return  5year_return  \\\n",
       "timestamp                                                                       \n",
       "2021-04-14 04:00:00+00:00   732.730     -0.038854      0.032174           NaN   \n",
       "2021-04-15 04:00:00+00:00   738.700      0.008148      0.012154           NaN   \n",
       "2021-04-16 04:00:00+00:00   739.395      0.000941     -0.007803      1.935738   \n",
       "2021-04-19 04:00:00+00:00   714.980     -0.033020     -0.051612      1.809241   \n",
       "2021-04-20 04:00:00+00:00   718.790      0.005329     -0.036939      1.831219   \n",
       "...                             ...           ...           ...           ...   \n",
       "2022-04-07 04:00:00+00:00  1057.260      0.010997      0.561638      2.539538   \n",
       "2022-04-08 04:00:00+00:00  1025.490     -0.030049      0.462687      2.389601   \n",
       "2022-04-11 04:00:00+00:00   975.930     -0.048328      0.280160      2.124076   \n",
       "2022-04-12 04:00:00+00:00   986.950      0.011292      0.346949      2.197013   \n",
       "2022-04-13 04:00:00+00:00  1022.370      0.035888      0.384012      2.444179   \n",
       "\n",
       "                           5year_return_annualzd  1yr cumulative return  \n",
       "timestamp                                                                \n",
       "2021-04-14 04:00:00+00:00                    NaN              -0.038854  \n",
       "2021-04-15 04:00:00+00:00                    NaN              -0.031022  \n",
       "2021-04-16 04:00:00+00:00               0.240348              -0.030111  \n",
       "2021-04-19 04:00:00+00:00               0.229470              -0.062137  \n",
       "2021-04-20 04:00:00+00:00               0.231387              -0.057139  \n",
       "...                                          ...                    ...  \n",
       "2022-04-07 04:00:00+00:00               0.287625               0.386843  \n",
       "2022-04-08 04:00:00+00:00               0.276526               0.345170  \n",
       "2022-04-11 04:00:00+00:00               0.255869               0.280160  \n",
       "2022-04-12 04:00:00+00:00               0.261679               0.294615  \n",
       "2022-04-13 04:00:00+00:00               0.280611               0.341077  \n",
       "\n",
       "[254 rows x 6 columns]"
      ]
     },
     "execution_count": 116,
     "metadata": {},
     "output_type": "execute_result"
    }
   ],
   "source": [
    "\n",
    "# create 1-year cumulative return\n",
    "df_ticker_1=df_ticker.loc[n_year_ago(1):]\n",
    "df_ticker_1['1yr cumulative return'] = (1 + df_ticker_1['daily_return']).cumprod() - 1  \n",
    "df_ticker_1"
   ]
  },
  {
   "cell_type": "code",
   "execution_count": null,
   "id": "84bbc752",
   "metadata": {},
   "outputs": [],
   "source": [
    "\n",
    "\n",
    "# create 5-year cumulative return\n",
    "\n",
    "\n",
    "# drop NA rows\n",
    "df_ticker_1.dropna(inplace=True)\n",
    "df_ticker_1.tail()\n"
   ]
  }
 ],
 "metadata": {
  "kernelspec": {
   "display_name": "Python 3",
   "language": "python",
   "name": "python3"
  },
  "language_info": {
   "codemirror_mode": {
    "name": "ipython",
    "version": 3
   },
   "file_extension": ".py",
   "mimetype": "text/x-python",
   "name": "python",
   "nbconvert_exporter": "python",
   "pygments_lexer": "ipython3",
   "version": "3.7.11"
  }
 },
 "nbformat": 4,
 "nbformat_minor": 5
}
