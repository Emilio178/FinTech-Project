{
 "cells": [
  {
   "cell_type": "markdown",
   "id": "45d031af",
   "metadata": {},
   "source": [
    "# Overhead setting"
   ]
  },
  {
   "cell_type": "code",
   "execution_count": 166,
   "id": "b2840e6e",
   "metadata": {},
   "outputs": [],
   "source": [
    "# Initial imports\n",
    "import os\n",
    "import json\n",
    "import requests\n",
    "import pandas as pd\n",
    "from dotenv import load_dotenv\n",
    "import alpaca_trade_api as tradeapi\n",
    "import  datetime\n",
    "from dateutil.relativedelta import relativedelta\n"
   ]
  },
  {
   "cell_type": "code",
   "execution_count": 4,
   "id": "42d937bd",
   "metadata": {},
   "outputs": [
    {
     "data": {
      "text/plain": [
       "True"
      ]
     },
     "execution_count": 4,
     "metadata": {},
     "output_type": "execute_result"
    }
   ],
   "source": [
    "# Load .env enviroment variables\n",
    "load_dotenv()"
   ]
  },
  {
   "cell_type": "code",
   "execution_count": null,
   "id": "a8c476ed",
   "metadata": {},
   "outputs": [],
   "source": [
    "# Set Alpaca API key and secret key\n",
    "alpaca_api_key = os.getenv(\"ALPACA_API_KEY\")\n",
    "alpaca_secret_key = os.getenv(\"ALPACA_SECRET_KEY\")\n",
    "\n",
    "# Create the Alpaca API object\n",
    "api = tradeapi.REST(\n",
    "    alpaca_api_key,\n",
    "    alpaca_secret_key,\n",
    "    api_version=\"v2\"\n",
    ")"
   ]
  },
  {
   "cell_type": "code",
   "execution_count": 203,
   "id": "4d7e9676",
   "metadata": {},
   "outputs": [],
   "source": [
    "# Universal variables:\n",
    "\n",
    "end = datetime.date.today()\n",
    "begin=end-pd.DateOffset(365*T)\n",
    "st=begin.strftime('%Y-%m-%d')\n",
    "ed=end.strftime('%Y-%m-%d')\n",
    "\n",
    "T=6\n",
    "selected_stock=\"AMZN\"\n",
    "benchmark=\"SPY\"\n"
   ]
  },
  {
   "cell_type": "code",
   "execution_count": 204,
   "id": "0ebc8e32",
   "metadata": {},
   "outputs": [],
   "source": [
    "# Universal Functions\n",
    "\n",
    "def n_year_ago(n):\n",
    "    # to get the date of \"n years ago from today\"\n",
    "    n_years_ago=(end-pd.DateOffset(365*n)).strftime('%Y-%m-%d')\n",
    "    return n_years_ago\n"
   ]
  },
  {
   "cell_type": "markdown",
   "id": "47cb6ef5",
   "metadata": {},
   "source": [
    "# Grab data from Alpaca API"
   ]
  },
  {
   "cell_type": "code",
   "execution_count": 205,
   "id": "60859b22",
   "metadata": {},
   "outputs": [],
   "source": [
    "# Format current date as ISO format\n",
    "start_date = pd.Timestamp(st, tz=\"America/New_York\").isoformat()\n",
    "end_date = pd.Timestamp(ed, tz=\"America/New_York\").isoformat()\n",
    "\n",
    "# Set the tickers list to fetch info from Alpaca API\n",
    "\n",
    "tickers = [selected_stock, benchmark]\n",
    "\n",
    "\n",
    "# Set timeframe to \"1Day\" for Alpaca API\n",
    "timeframe = \"1Day\"\n",
    "\n",
    "# Get current closing prices in tickers list\n",
    "df_raw = api.get_bars(\n",
    "    tickers,\n",
    "    timeframe,\n",
    "    start=start_date,\n",
    "    end=end_date\n",
    ").df\n"
   ]
  },
  {
   "cell_type": "markdown",
   "id": "37343aa6",
   "metadata": {},
   "source": [
    "# Create function to generate metrics\n",
    "\n",
    "* 1-year/5-year rolling return \n",
    "* annualized rolling volatility \n",
    "* annualized rolling sharpe ratio \n",
    "* 1-year/5-year cumulative return \n"
   ]
  },
  {
   "cell_type": "code",
   "execution_count": 206,
   "id": "684bb67b",
   "metadata": {},
   "outputs": [],
   "source": [
    "def risk_return_metrics(df,ticker,years_list):\n",
    "\n",
    "    df_ticker=df[['close','symbol']].loc[df['symbol']==ticker].drop(columns='symbol')\n",
    "    df_ticker['daily_return']=df_ticker['close'].pct_change()\n",
    "    \n",
    "    \n",
    "    # calculate n-year rolling return and cum return\n",
    "    for years in years_list:\n",
    "        \n",
    "        # calculate n-year rolling total return\n",
    "        df_ticker[f'{years}yr_return']=df_ticker['close'].pct_change(periods=252*years)\n",
    "        # calculate n-year rolling annualized return if n>1\n",
    "        if years>1:\n",
    "            df_ticker[f'{years}yr_return_annualzd']=(1+df_ticker[f'{years}yr_return'])**(1/years)-1\n",
    "        # calculate n-year cum return\n",
    "        df_ticker[f'{years}yr_cum_return'] = (1 + df_ticker['daily_return'])[n_year_ago(years):].cumprod() - 1  \n",
    "    \n",
    "    \n",
    "    # calculate annualized rolling standard deviation:\n",
    "    df_ticker['annualizd_volatility']=df_ticker['daily_return'].rolling(252).std()*(252**0.5)\n",
    "    # calculate annualized rolling sharpe ratio:\n",
    "    df_ticker['annualizd_sharpe']=(252**0.5)*(df_ticker['daily_return'].rolling(252).mean()/df_ticker['annualizd_volatility'])\n",
    "    \n",
    "    return df_ticker\n",
    "    \n"
   ]
  },
  {
   "cell_type": "markdown",
   "id": "e5faf20f",
   "metadata": {},
   "source": [
    "# Output final datasets"
   ]
  },
  {
   "cell_type": "code",
   "execution_count": 207,
   "id": "3a5c78b0",
   "metadata": {},
   "outputs": [],
   "source": [
    "\n",
    "years_list=[1,5]\n",
    "s_df=risk_return_metrics(df_raw,selected_stock,years_list)\n",
    "b_df=risk_return_metrics(df_raw,benchmark,years_list)\n",
    "s_df.to_csv(\"Data/selected_stock.csv\")\n",
    "b_df.to_csv(\"Data/benchmark.csv\")"
   ]
  },
  {
   "cell_type": "code",
   "execution_count": null,
   "id": "067efa8d",
   "metadata": {},
   "outputs": [],
   "source": [
    "# test and check\n",
    "s_df.loc['2022-04-08']\n",
    "s_df[['5year_return_annualzd']].plot()"
   ]
  }
 ],
 "metadata": {
  "kernelspec": {
   "display_name": "Python 3",
   "language": "python",
   "name": "python3"
  },
  "language_info": {
   "codemirror_mode": {
    "name": "ipython",
    "version": 3
   },
   "file_extension": ".py",
   "mimetype": "text/x-python",
   "name": "python",
   "nbconvert_exporter": "python",
   "pygments_lexer": "ipython3",
   "version": "3.7.11"
  }
 },
 "nbformat": 4,
 "nbformat_minor": 5
}
