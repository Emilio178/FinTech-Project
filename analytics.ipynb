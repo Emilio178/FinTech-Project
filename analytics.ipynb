{
 "cells": [
  {
   "cell_type": "code",
   "execution_count": 15,
   "id": "b2840e6e",
   "metadata": {},
   "outputs": [],
   "source": [
    "# Initial imports\n",
    "import os\n",
    "import json\n",
    "import requests\n",
    "import pandas as pd\n",
    "from dotenv import load_dotenv\n",
    "import alpaca_trade_api as tradeapi\n",
    "from datetime import date\n",
    "from dateutil.relativedelta import relativedelta\n"
   ]
  },
  {
   "cell_type": "code",
   "execution_count": 4,
   "id": "42d937bd",
   "metadata": {},
   "outputs": [
    {
     "data": {
      "text/plain": [
       "True"
      ]
     },
     "execution_count": 4,
     "metadata": {},
     "output_type": "execute_result"
    }
   ],
   "source": [
    "# Load .env enviroment variables\n",
    "load_dotenv()"
   ]
  },
  {
   "cell_type": "code",
   "execution_count": 93,
   "id": "4d7e9676",
   "metadata": {},
   "outputs": [
    {
     "data": {
      "text/plain": [
       "'2017-04-13'"
      ]
     },
     "execution_count": 93,
     "metadata": {},
     "output_type": "execute_result"
    }
   ],
   "source": [
    "# Set Universal variables:\n",
    "selected_company=\"TSLA\"\n",
    "bench_mark=\"SPY\"\n",
    "\n",
    "today=date.today().strftime('%Y-%m-%d')\n"
   ]
  },
  {
   "cell_type": "code",
   "execution_count": null,
   "id": "0ebc8e32",
   "metadata": {},
   "outputs": [],
   "source": [
    "# function to get the date of \"n years ago from today\"\n",
    "def n_year_ago(n):\n",
    "    \n",
    "    n_years_ago=(date.today() - relativedelta(years=n)).strftime('%Y-%m-%d')\n",
    "    return n_years_ago\n"
   ]
  },
  {
   "cell_type": "code",
   "execution_count": 46,
   "id": "632d11c9",
   "metadata": {},
   "outputs": [],
   "source": [
    "# Set Alpaca API key and secret\n",
    "alpaca_api_key = os.getenv(\"ALPACA_API_KEY\")\n",
    "alpaca_secret_key = os.getenv(\"ALPACA_SECRET_KEY\")\n",
    "\n",
    "# Create the Alpaca API object\n",
    "api = tradeapi.REST(\n",
    "    alpaca_api_key,\n",
    "    alpaca_secret_key,\n",
    "    api_version=\"v2\"\n",
    ")"
   ]
  },
  {
   "cell_type": "code",
   "execution_count": 86,
   "id": "60859b22",
   "metadata": {},
   "outputs": [],
   "source": [
    "# Format current date as ISO format\n",
    "start_date = pd.Timestamp(n_year_ago(6), tz=\"America/New_York\").isoformat()\n",
    "end_date = pd.Timestamp(today, tz=\"America/New_York\").isoformat()\n",
    "\n",
    "# Set the tickers list to fetch info from Alpaca API\n",
    "\n",
    "tickers = [selected_company, bench_mark]\n",
    "\n",
    "\n",
    "# Set timeframe to \"1Day\" for Alpaca API\n",
    "timeframe = \"1Day\"\n",
    "\n",
    "# Get current closing prices in tickers list\n",
    "df_ticker = api.get_bars(\n",
    "    tickers,\n",
    "    timeframe,\n",
    "    start=start_date,\n",
    "    end=end_date\n",
    ").df\n"
   ]
  },
  {
   "cell_type": "markdown",
   "id": "37343aa6",
   "metadata": {},
   "source": [
    "# Create a function to calculate returns\n",
    "* daily return\n",
    "* 1-year return \n",
    "* 5-year return \n",
    "* accumulative return from 1 year prior\n",
    "* accumulative return from 5 year prior"
   ]
  },
  {
   "cell_type": "code",
   "execution_count": null,
   "id": "684bb67b",
   "metadata": {},
   "outputs": [],
   "source": [
    "\n",
    "\n",
    "ticker='TSLA'\n",
    "df_ticker_1=df_ticker[['close','symbol']].loc[df_ticker['symbol']==ticker].drop(columns='symbol')\n",
    "df_ticker_1\n",
    "\n",
    "# create 1-year return \n",
    "df_ticker_1['1year_return']=df_ticker_1['close'].pct_change(periods=253*1)\n",
    "df_ticker_1\n",
    "\n",
    "# create 5-year return \n",
    "df_ticker_1['5year_return']=df_ticker_1['close'].pct_change(periods=253*5)\n",
    "df_ticker_1\n",
    "\n",
    "# create 1-year accumulative return\n",
    "\n",
    "\n",
    "# create 5-year accumulative return\n",
    "\n",
    "\n",
    "# drop NA rows\n",
    "df_ticker_1.dropna(inplace=True)\n",
    "df_ticker_1.tail()\n"
   ]
  }
 ],
 "metadata": {
  "kernelspec": {
   "display_name": "Python 3",
   "language": "python",
   "name": "python3"
  },
  "language_info": {
   "codemirror_mode": {
    "name": "ipython",
    "version": 3
   },
   "file_extension": ".py",
   "mimetype": "text/x-python",
   "name": "python",
   "nbconvert_exporter": "python",
   "pygments_lexer": "ipython3",
   "version": "3.7.11"
  }
 },
 "nbformat": 4,
 "nbformat_minor": 5
}
