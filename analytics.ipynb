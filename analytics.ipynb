{
 "cells": [
  {
   "cell_type": "markdown",
   "id": "45d031af",
   "metadata": {},
   "source": [
    "# Overhead setting"
   ]
  },
  {
   "cell_type": "code",
   "execution_count": 166,
   "id": "b2840e6e",
   "metadata": {},
   "outputs": [],
   "source": [
    "# Initial imports\n",
    "import os\n",
    "import json\n",
    "import requests\n",
    "import pandas as pd\n",
    "from dotenv import load_dotenv\n",
    "import alpaca_trade_api as tradeapi\n",
    "import  datetime\n",
    "from dateutil.relativedelta import relativedelta\n"
   ]
  },
  {
   "cell_type": "code",
   "execution_count": 4,
   "id": "42d937bd",
   "metadata": {},
   "outputs": [
    {
     "data": {
      "text/plain": [
       "True"
      ]
     },
     "execution_count": 4,
     "metadata": {},
     "output_type": "execute_result"
    }
   ],
   "source": [
    "# Load .env enviroment variables\n",
    "load_dotenv()"
   ]
  },
  {
   "cell_type": "code",
   "execution_count": null,
   "id": "a8c476ed",
   "metadata": {},
   "outputs": [],
   "source": [
    "# Set Alpaca API key and secret key\n",
    "alpaca_api_key = os.getenv(\"ALPACA_API_KEY\")\n",
    "alpaca_secret_key = os.getenv(\"ALPACA_SECRET_KEY\")\n",
    "\n",
    "# Create the Alpaca API object\n",
    "api = tradeapi.REST(\n",
    "    alpaca_api_key,\n",
    "    alpaca_secret_key,\n",
    "    api_version=\"v2\"\n",
    ")"
   ]
  },
  {
   "cell_type": "code",
   "execution_count": 167,
   "id": "4d7e9676",
   "metadata": {},
   "outputs": [],
   "source": [
    "# Universal variables:\n",
    "\n",
    "end = datetime.date.today()\n",
    "begin=end-pd.DateOffset(365*T)\n",
    "st=begin.strftime('%Y-%m-%d')\n",
    "ed=end.strftime('%Y-%m-%d')\n",
    "\n",
    "T=6\n",
    "selected_company=\"AMZN\"\n",
    "bench_mark=\"SPY\"\n"
   ]
  },
  {
   "cell_type": "code",
   "execution_count": 183,
   "id": "0ebc8e32",
   "metadata": {},
   "outputs": [],
   "source": [
    "# Functions\n",
    "\n",
    "def n_year_ago(n):\n",
    "    # to get the date of \"n years ago from today\"\n",
    "    n_years_ago=(end-pd.DateOffset(365*n)).strftime('%Y-%m-%d')\n",
    "    return n_years_ago\n",
    "\n"
   ]
  },
  {
   "cell_type": "markdown",
   "id": "47cb6ef5",
   "metadata": {},
   "source": [
    "# Grab data from Alpaca API"
   ]
  },
  {
   "cell_type": "code",
   "execution_count": 169,
   "id": "60859b22",
   "metadata": {},
   "outputs": [],
   "source": [
    "# Format current date as ISO format\n",
    "start_date = pd.Timestamp(st, tz=\"America/New_York\").isoformat()\n",
    "end_date = pd.Timestamp(ed, tz=\"America/New_York\").isoformat()\n",
    "\n",
    "# Set the tickers list to fetch info from Alpaca API\n",
    "\n",
    "tickers = [selected_company, bench_mark]\n",
    "\n",
    "\n",
    "# Set timeframe to \"1Day\" for Alpaca API\n",
    "timeframe = \"1Day\"\n",
    "\n",
    "# Get current closing prices in tickers list\n",
    "df_raw = api.get_bars(\n",
    "    tickers,\n",
    "    timeframe,\n",
    "    start=start_date,\n",
    "    end=end_date\n",
    ").df\n"
   ]
  },
  {
   "cell_type": "markdown",
   "id": "37343aa6",
   "metadata": {},
   "source": [
    "# Create function to generate metrics\n",
    "\n",
    "* 1-year/5-year rolling return \n",
    "* annualized rolling volatility \n",
    "* annualized rolling sharpe ratio \n",
    "* 1-year/5-year cumulative return \n"
   ]
  },
  {
   "cell_type": "code",
   "execution_count": 196,
   "id": "684bb67b",
   "metadata": {},
   "outputs": [
    {
     "data": {
      "text/html": [
       "<div>\n",
       "<style scoped>\n",
       "    .dataframe tbody tr th:only-of-type {\n",
       "        vertical-align: middle;\n",
       "    }\n",
       "\n",
       "    .dataframe tbody tr th {\n",
       "        vertical-align: top;\n",
       "    }\n",
       "\n",
       "    .dataframe thead th {\n",
       "        text-align: right;\n",
       "    }\n",
       "</style>\n",
       "<table border=\"1\" class=\"dataframe\">\n",
       "  <thead>\n",
       "    <tr style=\"text-align: right;\">\n",
       "      <th></th>\n",
       "      <th>close</th>\n",
       "      <th>daily_return</th>\n",
       "      <th>1yr_return</th>\n",
       "      <th>1yr_cum_return</th>\n",
       "      <th>5yr_return</th>\n",
       "      <th>5yr_return_annualzd</th>\n",
       "      <th>5yr_cum_return</th>\n",
       "      <th>annualizd_volatility</th>\n",
       "      <th>annualizd_sharpe</th>\n",
       "    </tr>\n",
       "    <tr>\n",
       "      <th>timestamp</th>\n",
       "      <th></th>\n",
       "      <th></th>\n",
       "      <th></th>\n",
       "      <th></th>\n",
       "      <th></th>\n",
       "      <th></th>\n",
       "      <th></th>\n",
       "      <th></th>\n",
       "      <th></th>\n",
       "    </tr>\n",
       "  </thead>\n",
       "  <tbody>\n",
       "    <tr>\n",
       "      <th>2022-04-08 04:00:00+00:00</th>\n",
       "      <td>3089.21</td>\n",
       "      <td>-0.021067</td>\n",
       "      <td>-0.086424</td>\n",
       "      <td>-0.09093</td>\n",
       "      <td>2.452094</td>\n",
       "      <td>0.281199</td>\n",
       "      <td>2.491935</td>\n",
       "      <td>0.316845</td>\n",
       "      <td>-0.008112</td>\n",
       "    </tr>\n",
       "  </tbody>\n",
       "</table>\n",
       "</div>"
      ],
      "text/plain": [
       "                             close  daily_return  1yr_return  1yr_cum_return  \\\n",
       "timestamp                                                                      \n",
       "2022-04-08 04:00:00+00:00  3089.21     -0.021067   -0.086424        -0.09093   \n",
       "\n",
       "                           5yr_return  5yr_return_annualzd  5yr_cum_return  \\\n",
       "timestamp                                                                    \n",
       "2022-04-08 04:00:00+00:00    2.452094             0.281199        2.491935   \n",
       "\n",
       "                           annualizd_volatility  annualizd_sharpe  \n",
       "timestamp                                                          \n",
       "2022-04-08 04:00:00+00:00              0.316845         -0.008112  "
      ]
     },
     "execution_count": 196,
     "metadata": {},
     "output_type": "execute_result"
    }
   ],
   "source": [
    "def risk_return_metrics(df,ticker,years_list):\n",
    "\n",
    "    df_ticker=df[['close','symbol']].loc[df['symbol']==ticker].drop(columns='symbol')\n",
    "    df_ticker['daily_return']=df_ticker['close'].pct_change()\n",
    "    \n",
    "    \n",
    "    # calculate n-year rolling return and cum return\n",
    "    for years in years_list:\n",
    "        \n",
    "        # calculate n-year rolling total return\n",
    "        df_ticker[f'{years}yr_return']=df_ticker['close'].pct_change(periods=252*years)\n",
    "        # calculate n-year rolling annualized return if n>1\n",
    "        if years>1:\n",
    "            df_ticker[f'{years}yr_return_annualzd']=(1+df_ticker[f'{years}yr_return'])**(1/years)-1\n",
    "        # calculate n-year cum return\n",
    "        df_ticker[f'{years}yr_cum_return'] = (1 + df_ticker['daily_return'])[n_year_ago(years):].cumprod() - 1  \n",
    "    \n",
    "    \n",
    "    # calculate annualized rolling standard deviation:\n",
    "    df_ticker['annualizd_volatility']=df_ticker['daily_return'].rolling(252).std()*(252**0.5)\n",
    "    # calculate annualized rolling sharpe ratio:\n",
    "    df_ticker['annualizd_sharpe']=(252**0.5)*(df_ticker['daily_return'].rolling(252).mean()/df_ticker['annualizd_volatility'])\n",
    "    \n",
    "    return df_ticker\n",
    "    \n"
   ]
  },
  {
   "cell_type": "code",
   "execution_count": 197,
   "id": "b30853dd",
   "metadata": {},
   "outputs": [
    {
     "data": {
      "text/plain": [
       "<AxesSubplot:xlabel='timestamp'>"
      ]
     },
     "execution_count": 197,
     "metadata": {},
     "output_type": "execute_result"
    },
    {
     "data": {
      "image/png": "[encoded data removed]",
      "text/plain": [
       "<Figure size 432x288 with 1 Axes>"
      ]
     },
     "metadata": {
      "needs_background": "light"
     },
     "output_type": "display_data"
    }
   ],
   "source": [
    "years_list=[1,5]\n",
    "s_df=risk_return_metrics(df_raw,selected_company,years_list)\n",
    "\n",
    "b_df=risk_return_metrics(df_raw,bench_mark,[1,5])\n",
    "s_df.loc['2022-04-08']\n",
    "s_df[['5year_return_annualzd']].plot()\n"
   ]
  },
  {
   "cell_type": "code",
   "execution_count": null,
   "id": "446cf946",
   "metadata": {},
   "outputs": [],
   "source": []
  }
 ],
 "metadata": {
  "kernelspec": {
   "display_name": "Python 3",
   "language": "python",
   "name": "python3"
  },
  "language_info": {
   "codemirror_mode": {
    "name": "ipython",
    "version": 3
   },
   "file_extension": ".py",
   "mimetype": "text/x-python",
   "name": "python",
   "nbconvert_exporter": "python",
   "pygments_lexer": "ipython3",
   "version": "3.7.11"
  }
 },
 "nbformat": 4,
 "nbformat_minor": 5
}
