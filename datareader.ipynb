{
 "cells": [
  {
   "cell_type": "code",
   "execution_count": 39,
   "id": "f1ccfee0-cac5-486b-b886-964d940f0827",
   "metadata": {},
   "outputs": [],
   "source": [
    "import pandas_datareader.data as web\n",
    "import datetime\n",
    "import matplotlib.pyplot as plt"
   ]
  },
  {
   "cell_type": "code",
   "execution_count": 45,
   "id": "990c5e16-4d5e-46fe-91c5-84d736a8d59e",
   "metadata": {},
   "outputs": [],
   "source": [
    "start = datetime.datetime(2012,1,1)\n",
    "end = datetime.datetime(2022,4,17)"
   ]
  },
  {
   "cell_type": "code",
   "execution_count": 46,
   "id": "16d3454c-a5f2-4284-a767-fede0f7db2a4",
   "metadata": {},
   "outputs": [],
   "source": [
    "google = web.DataReader('GOOGL', 'yahoo', start, end)\n",
    "tesla = web.DataReader('TSLA', 'yahoo', start, end)\n",
    "spy = web.DataReader('SPY', 'yahoo', start, end)\n",
    "tnx = web.DataReader('^TNX', 'yahoo', start, end)\n",
    "btc = web.DataReader('BTC-CAD', 'yahoo', start, end)"
   ]
  },
  {
   "cell_type": "code",
   "execution_count": 48,
   "id": "1457263e-9525-482a-a8d5-2f998dd040de",
   "metadata": {},
   "outputs": [
    {
     "data": {
      "text/html": [
       "<div>\n",
       "<style scoped>\n",
       "    .dataframe tbody tr th:only-of-type {\n",
       "        vertical-align: middle;\n",
       "    }\n",
       "\n",
       "    .dataframe tbody tr th {\n",
       "        vertical-align: top;\n",
       "    }\n",
       "\n",
       "    .dataframe thead th {\n",
       "        text-align: right;\n",
       "    }\n",
       "</style>\n",
       "<table border=\"1\" class=\"dataframe\">\n",
       "  <thead>\n",
       "    <tr style=\"text-align: right;\">\n",
       "      <th></th>\n",
       "      <th>High</th>\n",
       "      <th>Low</th>\n",
       "      <th>Open</th>\n",
       "      <th>Close</th>\n",
       "      <th>Volume</th>\n",
       "      <th>Adj Close</th>\n",
       "    </tr>\n",
       "    <tr>\n",
       "      <th>Date</th>\n",
       "      <th></th>\n",
       "      <th></th>\n",
       "      <th></th>\n",
       "      <th></th>\n",
       "      <th></th>\n",
       "      <th></th>\n",
       "    </tr>\n",
       "  </thead>\n",
       "  <tbody>\n",
       "    <tr>\n",
       "      <th>2022-04-13</th>\n",
       "      <td>52047.707031</td>\n",
       "      <td>50180.906250</td>\n",
       "      <td>50698.699219</td>\n",
       "      <td>51737.113281</td>\n",
       "      <td>34801350317</td>\n",
       "      <td>51737.113281</td>\n",
       "    </tr>\n",
       "    <tr>\n",
       "      <th>2022-04-14</th>\n",
       "      <td>52017.171875</td>\n",
       "      <td>50046.808594</td>\n",
       "      <td>51728.929688</td>\n",
       "      <td>50364.757812</td>\n",
       "      <td>30698964473</td>\n",
       "      <td>50364.757812</td>\n",
       "    </tr>\n",
       "    <tr>\n",
       "      <th>2022-04-15</th>\n",
       "      <td>51237.386719</td>\n",
       "      <td>50277.656250</td>\n",
       "      <td>50369.660156</td>\n",
       "      <td>51150.082031</td>\n",
       "      <td>27441922161</td>\n",
       "      <td>51150.082031</td>\n",
       "    </tr>\n",
       "    <tr>\n",
       "      <th>2022-04-16</th>\n",
       "      <td>51251.261719</td>\n",
       "      <td>50550.917969</td>\n",
       "      <td>51148.636719</td>\n",
       "      <td>50987.402344</td>\n",
       "      <td>21231652969</td>\n",
       "      <td>50987.402344</td>\n",
       "    </tr>\n",
       "    <tr>\n",
       "      <th>2022-04-17</th>\n",
       "      <td>51144.835938</td>\n",
       "      <td>50704.554688</td>\n",
       "      <td>50973.871094</td>\n",
       "      <td>50789.265625</td>\n",
       "      <td>20185571328</td>\n",
       "      <td>50789.265625</td>\n",
       "    </tr>\n",
       "  </tbody>\n",
       "</table>\n",
       "</div>"
      ],
      "text/plain": [
       "                    High           Low          Open         Close  \\\n",
       "Date                                                                 \n",
       "2022-04-13  52047.707031  50180.906250  50698.699219  51737.113281   \n",
       "2022-04-14  52017.171875  50046.808594  51728.929688  50364.757812   \n",
       "2022-04-15  51237.386719  50277.656250  50369.660156  51150.082031   \n",
       "2022-04-16  51251.261719  50550.917969  51148.636719  50987.402344   \n",
       "2022-04-17  51144.835938  50704.554688  50973.871094  50789.265625   \n",
       "\n",
       "                 Volume     Adj Close  \n",
       "Date                                   \n",
       "2022-04-13  34801350317  51737.113281  \n",
       "2022-04-14  30698964473  50364.757812  \n",
       "2022-04-15  27441922161  51150.082031  \n",
       "2022-04-16  21231652969  50987.402344  \n",
       "2022-04-17  20185571328  50789.265625  "
      ]
     },
     "execution_count": 48,
     "metadata": {},
     "output_type": "execute_result"
    }
   ],
   "source": [
    "btc.tail()"
   ]
  },
  {
   "cell_type": "code",
   "execution_count": null,
   "id": "3e640c08-df94-4834-a0a1-446d891755cc",
   "metadata": {},
   "outputs": [],
   "source": []
  }
 ],
 "metadata": {
  "kernelspec": {
   "display_name": "project1env",
   "language": "python",
   "name": "project1env"
  },
  "language_info": {
   "codemirror_mode": {
    "name": "ipython",
    "version": 3
   },
   "file_extension": ".py",
   "mimetype": "text/x-python",
   "name": "python",
   "nbconvert_exporter": "python",
   "pygments_lexer": "ipython3",
   "version": "3.7.4"
  }
 },
 "nbformat": 4,
 "nbformat_minor": 5
}
